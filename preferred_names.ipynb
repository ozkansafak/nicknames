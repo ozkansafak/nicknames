{
 "cells": [
  {
   "cell_type": "code",
   "execution_count": 478,
   "id": "bc7a8d8f",
   "metadata": {},
   "outputs": [
    {
     "name": "stderr",
     "output_type": "stream",
     "text": [
      "/var/folders/jf/qykqz6ks0vs56cb_zyf_7x_00000gn/T/ipykernel_1248/597161407.py:7: DeprecationWarning: Importing display from IPython.core.display is deprecated since IPython 7.14, please import from IPython display\n",
      "  from IPython.core.display import display, HTML\n"
     ]
    },
    {
     "data": {
      "text/html": [
       "<style>.container { width:100% !important; }</style>"
      ],
      "text/plain": [
       "<IPython.core.display.HTML object>"
      ]
     },
     "metadata": {},
     "output_type": "display_data"
    }
   ],
   "source": [
    "import pandas as pd\n",
    "import matplotlib.pyplot as plt\n",
    "import matplotlib.pylab as pylab\n",
    "import numpy as np\n",
    "import re, sys, random, glob, json, unidecode, unicodedata\n",
    "import ipdb, time, sys, os, pickle\n",
    "from IPython.core.display import display, HTML\n",
    "from IPython.display import clear_output\n",
    "from urllib.request import urlopen\n",
    "from collections import Counter\n",
    "from bs4 import BeautifulSoup  \n",
    "\n",
    "display(HTML(\"<style>.container { width:100% !important; }</style>\"))\n",
    "\n",
    "# Matplotlib Configuration\n",
    "pylab.rcParams.update({'legend.fontsize': 'medium',\n",
    "                       'font.size'      : 12,\n",
    "                       'figure.figsize' : (10, 10),\n",
    "                       'axes.labelsize' : 'medium',\n",
    "                       'axes.titlesize' : 'medium',\n",
    "                       'axes.grid'      : 'on',\n",
    "                       'xtick.labelsize': 'medium',\n",
    "                       'ytick.labelsize': 'medium'})\n",
    "\n",
    "def print_runtime(start: float, printer: bool = True) -> None:\n",
    "    end = time.time()\n",
    "    if printer:\n",
    "        print(f'Runtime: {int((end - start) // 60)} min {int((end - start) % 60):2d} sec')\n",
    "    else:\n",
    "        return f'({int((end - start) // 60)} min {int((end - start) % 60):2d} sec)'"
   ]
  },
  {
   "cell_type": "markdown",
   "id": "b976eaa8",
   "metadata": {},
   "source": [
    "---\n",
    "# Extract names from emails"
   ]
  },
  {
   "cell_type": "code",
   "execution_count": 655,
   "id": "8dcb9949",
   "metadata": {},
   "outputs": [],
   "source": [
    "def compute_sequence_prob(response, alpha=0.7):\n",
    "    logprob = []\n",
    "    for item in response.choices[0].logprobs.content:\n",
    "        #print(item.token, (item.logprob))\n",
    "        logprob.append(item.logprob)\n",
    "\n",
    "    avg_logprob = sum(logprob) / len(logprob) ** .7\n",
    "    return np.exp(avg_logprob)\n",
    "\n",
    "def get_prompt(first_name, email, bio):\n",
    "    prompt = f\"\"\"\n",
    "    Given Name: {first_name}\n",
    "    Email: {email}\n",
    "    Bio: {bio}\n",
    " \"\"\"\n",
    "    return prompt\n"
   ]
  },
  {
   "cell_type": "code",
   "execution_count": 656,
   "id": "9af805cb",
   "metadata": {},
   "outputs": [
    {
     "data": {
      "text/html": [
       "<div>\n",
       "<style scoped>\n",
       "    .dataframe tbody tr th:only-of-type {\n",
       "        vertical-align: middle;\n",
       "    }\n",
       "\n",
       "    .dataframe tbody tr th {\n",
       "        vertical-align: top;\n",
       "    }\n",
       "\n",
       "    .dataframe thead th {\n",
       "        text-align: right;\n",
       "    }\n",
       "</style>\n",
       "<table border=\"1\" class=\"dataframe\">\n",
       "  <thead>\n",
       "    <tr style=\"text-align: right;\">\n",
       "      <th></th>\n",
       "      <th>Preferred Name</th>\n",
       "      <th>likelihood</th>\n",
       "      <th>First Name</th>\n",
       "      <th>Last Name</th>\n",
       "      <th>Email</th>\n",
       "      <th>Company Name</th>\n",
       "      <th>Bio</th>\n",
       "      <th>Address</th>\n",
       "      <th>Country</th>\n",
       "      <th>State</th>\n",
       "      <th>City</th>\n",
       "      <th>Zip Code</th>\n",
       "      <th>Phone #</th>\n",
       "      <th>Phone #.1</th>\n",
       "      <th>Website</th>\n",
       "      <th>Profile Urls</th>\n",
       "    </tr>\n",
       "  </thead>\n",
       "  <tbody>\n",
       "    <tr>\n",
       "      <th>0</th>\n",
       "      <td>nan</td>\n",
       "      <td>0.0</td>\n",
       "      <td>Christopher</td>\n",
       "      <td>Cheung</td>\n",
       "      <td>chris.cheung@fbxbrokers.com</td>\n",
       "      <td>Florida Business Exchange</td>\n",
       "      <td>Chris Cheung is a \\t\\t\\t\\t\\t\\tTampa business b...</td>\n",
       "      <td>550 Reo St.\\t\\t\\t\\t\\t\\t\\t\\t\\t\\t\\t\\t\\tSuite 300</td>\n",
       "      <td>United States</td>\n",
       "      <td>FL</td>\n",
       "      <td>Tampa</td>\n",
       "      <td>33602</td>\n",
       "      <td>813-785-9089</td>\n",
       "      <td>NaN</td>\n",
       "      <td>https://fbxbrokers.com</td>\n",
       "      <td>https://brokers.interexo.com/united-states_flo...</td>\n",
       "    </tr>\n",
       "    <tr>\n",
       "      <th>1</th>\n",
       "      <td>nan</td>\n",
       "      <td>0.0</td>\n",
       "      <td>William</td>\n",
       "      <td>Gaines</td>\n",
       "      <td>bill@franpro.com</td>\n",
       "      <td>Franprocom</td>\n",
       "      <td>William Gaines is a  business broker of the we...</td>\n",
       "      <td>Bowie</td>\n",
       "      <td>United States</td>\n",
       "      <td>MD</td>\n",
       "      <td>20715</td>\n",
       "      <td>NaN</td>\n",
       "      <td>443-583-3070</td>\n",
       "      <td>NaN</td>\n",
       "      <td>https://franpro.com</td>\n",
       "      <td>https://brokers.interexo.com/united-states_mar...</td>\n",
       "    </tr>\n",
       "    <tr>\n",
       "      <th>2</th>\n",
       "      <td>nan</td>\n",
       "      <td>0.0</td>\n",
       "      <td>Anthony</td>\n",
       "      <td>Shard</td>\n",
       "      <td>tony@shardmb.com</td>\n",
       "      <td>Shard Marketing</td>\n",
       "      <td>Anthony Shard is a \\t\\t\\t\\t\\t\\tCortez business...</td>\n",
       "      <td>12325 Baypointe Ter</td>\n",
       "      <td>United States</td>\n",
       "      <td>FL</td>\n",
       "      <td>Cortez</td>\n",
       "      <td>34215-2566</td>\n",
       "      <td>810-577-5291</td>\n",
       "      <td>NaN</td>\n",
       "      <td>https://shardmb.com</td>\n",
       "      <td>https://brokers.interexo.com/united-states_flo...</td>\n",
       "    </tr>\n",
       "    <tr>\n",
       "      <th>3</th>\n",
       "      <td>nan</td>\n",
       "      <td>0.0</td>\n",
       "      <td>Antonio</td>\n",
       "      <td>Bardy</td>\n",
       "      <td>tonybardy@gmail.com</td>\n",
       "      <td>Florida Connexion Properties</td>\n",
       "      <td>Antonio Bardy is a \\t\\t\\t\\t\\t\\tWindermere busi...</td>\n",
       "      <td>1961 Westhill Run</td>\n",
       "      <td>United States</td>\n",
       "      <td>FL</td>\n",
       "      <td>Windermere</td>\n",
       "      <td>34786-6230</td>\n",
       "      <td>407-535-3639</td>\n",
       "      <td>NaN</td>\n",
       "      <td>NaN</td>\n",
       "      <td>https://brokers.interexo.com/united-states_flo...</td>\n",
       "    </tr>\n",
       "    <tr>\n",
       "      <th>4</th>\n",
       "      <td>nan</td>\n",
       "      <td>0.0</td>\n",
       "      <td>Elizabeth</td>\n",
       "      <td>Berger</td>\n",
       "      <td>liz@lizberger.com</td>\n",
       "      <td>Berger Realty Group</td>\n",
       "      <td>Elizabeth Berger is a Coral Springs business b...</td>\n",
       "      <td>1955 University Dr</td>\n",
       "      <td>United States</td>\n",
       "      <td>FL</td>\n",
       "      <td>Coral Springs</td>\n",
       "      <td>33071</td>\n",
       "      <td>954-344-8222</td>\n",
       "      <td>954-650-7848</td>\n",
       "      <td>https://lizberger.com/</td>\n",
       "      <td>https://brokers.interexo.com/united-states_flo...</td>\n",
       "    </tr>\n",
       "  </tbody>\n",
       "</table>\n",
       "</div>"
      ],
      "text/plain": [
       "  Preferred Name  likelihood   First Name Last Name  \\\n",
       "0            nan         0.0  Christopher    Cheung   \n",
       "1            nan         0.0      William    Gaines   \n",
       "2            nan         0.0      Anthony     Shard   \n",
       "3            nan         0.0      Antonio     Bardy   \n",
       "4            nan         0.0    Elizabeth    Berger   \n",
       "\n",
       "                         Email                  Company Name  \\\n",
       "0  chris.cheung@fbxbrokers.com     Florida Business Exchange   \n",
       "1             bill@franpro.com                    Franprocom   \n",
       "2             tony@shardmb.com               Shard Marketing   \n",
       "3          tonybardy@gmail.com  Florida Connexion Properties   \n",
       "4            liz@lizberger.com           Berger Realty Group   \n",
       "\n",
       "                                                 Bio  \\\n",
       "0  Chris Cheung is a \\t\\t\\t\\t\\t\\tTampa business b...   \n",
       "1  William Gaines is a  business broker of the we...   \n",
       "2  Anthony Shard is a \\t\\t\\t\\t\\t\\tCortez business...   \n",
       "3  Antonio Bardy is a \\t\\t\\t\\t\\t\\tWindermere busi...   \n",
       "4  Elizabeth Berger is a Coral Springs business b...   \n",
       "\n",
       "                                          Address        Country State  \\\n",
       "0  550 Reo St.\\t\\t\\t\\t\\t\\t\\t\\t\\t\\t\\t\\t\\tSuite 300  United States    FL   \n",
       "1                                           Bowie  United States    MD   \n",
       "2                             12325 Baypointe Ter  United States    FL   \n",
       "3                               1961 Westhill Run  United States    FL   \n",
       "4                              1955 University Dr  United States    FL   \n",
       "\n",
       "            City    Zip Code       Phone #     Phone #.1  \\\n",
       "0          Tampa       33602  813-785-9089           NaN   \n",
       "1          20715         NaN  443-583-3070           NaN   \n",
       "2         Cortez  34215-2566  810-577-5291           NaN   \n",
       "3     Windermere  34786-6230  407-535-3639           NaN   \n",
       "4  Coral Springs       33071  954-344-8222  954-650-7848   \n",
       "\n",
       "                  Website                                       Profile Urls  \n",
       "0  https://fbxbrokers.com  https://brokers.interexo.com/united-states_flo...  \n",
       "1     https://franpro.com  https://brokers.interexo.com/united-states_mar...  \n",
       "2     https://shardmb.com  https://brokers.interexo.com/united-states_flo...  \n",
       "3                     NaN  https://brokers.interexo.com/united-states_flo...  \n",
       "4  https://lizberger.com/  https://brokers.interexo.com/united-states_flo...  "
      ]
     },
     "execution_count": 656,
     "metadata": {},
     "output_type": "execute_result"
    }
   ],
   "source": [
    "fname = 'First Name Change - Interexo 1_29_24.xlsx - Data - No Change.csv'\n",
    "df = pd.read_csv(fname)\n",
    "df.insert(1, 'likelihood', [0]*len(df))\n",
    "df.rename({'Given Name': 'Preferred Name'}, axis=1, inplace=True)\n",
    "df = df.astype({'Preferred Name':str, 'likelihood':float})\n",
    "df.head()"
   ]
  },
  {
   "cell_type": "code",
   "execution_count": 747,
   "id": "75eabce4",
   "metadata": {
    "scrolled": false
   },
   "outputs": [
    {
     "name": "stdout",
     "output_type": "stream",
     "text": [
      "1000   given_name:Don, preferred_name:Don,     prob:1.0\n"
     ]
    }
   ],
   "source": [
    "from openai import OpenAI\n",
    "client = OpenAI()\n",
    "\n",
    "start = time.time()\n",
    "model = \"gpt-3.5-turbo\"\n",
    "# model = \"gpt-4-0125-preview\"\n",
    "\n",
    "sys_message = f\"\"\"Given the values for \"Given Name\", \"Email\" and \"Bio\" of a company employee, your job is to predict what his/her Preferred Name is. For instance, a person with the given name \"Anthony\" might prefer being called \"Tony\", and the evidence of it could be that his email is \"tony_pearson@gmail.com\" or in his Bio he might be referred to as Tony instead of Anthony. However, if you have no evidence for his \"Preferred Name\" being different than his \"Given Name\", then output the \"Given Name\".\n",
    "Provide your response as a single string and nothing else. Do not include any other text, or any explanation or any special formatting like using backticks (``). and Don't make up a full sentence.\n",
    "\n",
    "I'm providing the \"Given Name\", \"Email\", and the \"Bio\" of a business professional below.\"\"\"\n",
    "\n",
    "p = 1000\n",
    "for idx, row in df[p:p+1].iterrows():\n",
    "    print(f\"{idx:3d}   given_name:{row['First Name']}\", end=\"\")\n",
    "    \n",
    "    prompt = get_prompt(row['First Name'], row['Email'], row['Bio'])\n",
    "    response = client.chat.completions.create(\n",
    "        model=model,\n",
    "        messages=[\n",
    "            {\"role\": \"system\", \"content\": sys_message},\n",
    "            {\"role\": \"user\", \"content\": prompt}\n",
    "        ],\n",
    "        top_p=0.00,\n",
    "        logprobs=True,\n",
    "        top_logprobs=5\n",
    "    )\n",
    "    \n",
    "    content = response.choices[0].message.dict()['content']\n",
    "    prob = compute_sequence_prob(response)\n",
    "    df.loc[idx, 'Preferred Name'] = content\n",
    "    df.loc[idx, 'likelihood'] = round(prob, 2)\n",
    "    print(f', preferred_name:{content+\", \":8s} prob:{round(prob,2)}')\n",
    "    \n",
    "    compute_sequence_prob(response)\n"
   ]
  },
  {
   "cell_type": "code",
   "execution_count": 748,
   "id": "35d074dc",
   "metadata": {
    "scrolled": true
   },
   "outputs": [
    {
     "data": {
      "text/plain": [
       "0.9999597547668612"
      ]
     },
     "execution_count": 748,
     "metadata": {},
     "output_type": "execute_result"
    }
   ],
   "source": [
    "\n",
    "compute_sequence_prob(response)"
   ]
  },
  {
   "cell_type": "code",
   "execution_count": 749,
   "id": "6e3ce637",
   "metadata": {},
   "outputs": [
    {
     "name": "stdout",
     "output_type": "stream",
     "text": [
      "TopLogprob(token='Don', bytes=[68, 111, 110], logprob=-4.0246043e-05) 0.9999597547668612\n",
      "TopLogprob(token=' Don', bytes=[32, 68, 111, 110], logprob=-11.846285) 7.165125364838587e-06\n",
      "TopLogprob(token='The', bytes=[84, 104, 101], logprob=-12.266006) 4.709136500362086e-06\n",
      "TopLogprob(token='Dan', bytes=[68, 97, 110], logprob=-12.2915) 4.590599189669888e-06\n",
      "TopLogprob(token='Donald', bytes=[68, 111, 110, 97, 108, 100], logprob=-12.2979965) 4.560873024598006e-06\n"
     ]
    }
   ],
   "source": [
    "for item in response.choices[0].logprobs.content[0].top_logprobs:\n",
    "    print(item, np.exp(item.logprob))"
   ]
  },
  {
   "cell_type": "code",
   "execution_count": null,
   "id": "4bc0920e",
   "metadata": {},
   "outputs": [],
   "source": []
  },
  {
   "cell_type": "code",
   "execution_count": null,
   "id": "9ce750db",
   "metadata": {},
   "outputs": [],
   "source": []
  },
  {
   "cell_type": "code",
   "execution_count": null,
   "id": "2e7967c5",
   "metadata": {},
   "outputs": [],
   "source": []
  },
  {
   "cell_type": "code",
   "execution_count": null,
   "id": "a9cf62e3",
   "metadata": {},
   "outputs": [],
   "source": []
  },
  {
   "cell_type": "code",
   "execution_count": null,
   "id": "da133bf7",
   "metadata": {},
   "outputs": [],
   "source": []
  }
 ],
 "metadata": {
  "kernelspec": {
   "display_name": "Python 3 (ipykernel)",
   "language": "python",
   "name": "python3"
  },
  "language_info": {
   "codemirror_mode": {
    "name": "ipython",
    "version": 3
   },
   "file_extension": ".py",
   "mimetype": "text/x-python",
   "name": "python",
   "nbconvert_exporter": "python",
   "pygments_lexer": "ipython3",
   "version": "3.8.16"
  }
 },
 "nbformat": 4,
 "nbformat_minor": 5
}
